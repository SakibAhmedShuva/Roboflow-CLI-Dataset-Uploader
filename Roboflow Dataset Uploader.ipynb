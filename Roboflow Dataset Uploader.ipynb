{
  "cells": [
    {
      "cell_type": "markdown",
      "metadata": {},
      "source": [
        "# Roboflow Dataset Uploader\n",
        "\n",
        "This notebook provides a streamlined process for uploading datasets to Roboflow using the Roboflow CLI."
      ]
    },
    {
      "cell_type": "markdown",
      "metadata": {},
      "source": [
        "## Setup and Authentication"
      ]
    },
    {
      "cell_type": "markdown",
      "metadata": {},
      "source": [
        "First, install the Roboflow CLI package:"
      ]
    },
    {
      "cell_type": "code",
      "execution_count": null,
      "metadata": {},
      "outputs": [],
      "source": [
        "# Install Roboflow CLI\n",
        "!pip install roboflow"
      ]
    },
    {
      "cell_type": "markdown",
      "metadata": {},
      "source": [
        "Next, authenticate with your Roboflow account:"
      ]
    },
    {
      "cell_type": "code",
      "execution_count": null,
      "metadata": {},
      "outputs": [],
      "source": [
        "# Authenticate with Roboflow\n",
        "!roboflow login\n",
        "\n",
        "# Instructions:\n",
        "# 1. Visit https://app.roboflow.com/auth-cli\n",
        "# 2. Copy the authentication code (format: 0a2ds13j-2dsa23-4b6f-8a62-86adk232j2ghj123)\n",
        "# 3. Paste the code in the notebook prompt"
      ]
    },
    {
      "cell_type": "markdown",
      "metadata": {},
      "source": [
        "## Dataset Import"
      ]
    },
    {
      "cell_type": "markdown",
      "metadata": {},
      "source": [
        "Import your dataset to a specific workspace and project:"
      ]
    },
    {
      "cell_type": "code",
      "execution_count": null,
      "metadata": {},
      "outputs": [],
      "source": [
        "# Import Dataset to Roboflow\n",
        "!roboflow import -w damage-sverity -p high-school-it /content/damage-yolo-29-2-1-25-augmented"
      ]
    },
    {
      "cell_type": "markdown",
      "metadata": {},
      "source": [
        "## Notes\n",
        "\n",
        "- This example imports a YOLO-formatted dataset with augmentation\n",
        "- Adjust the workspace name, project name, and file path as needed for your specific use case\n",
        "- After import, you can access your dataset in the Roboflow web interface for further processing\n",
        "\n",
        "---\n",
        "\n",
        "For more information on Roboflow CLI commands, visit the [official documentation](https://docs.roboflow.com/cli)."
      ]
    }
  ],
  "metadata": {
    "kernelspec": {
      "display_name": "Python 3",
      "language": "python",
      "name": "python3"
    },
    "language_info": {
      "codemirror_mode": {
        "name": "ipython",
        "version": 3
      },
      "file_extension": ".py",
      "mimetype": "text/x-python",
      "name": "python",
      "nbconvert_exporter": "python",
      "pygments_lexer": "ipython3",
      "version": "3.8.10"
    }
  },
  "nbformat": 4,
  "nbformat_minor": 4
}
